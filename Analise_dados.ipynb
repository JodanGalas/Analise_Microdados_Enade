{
 "cells": [
  {
   "cell_type": "code",
   "execution_count": 10,
   "metadata": {},
   "outputs": [],
   "source": [
    "import pandas as pd\n",
    "import matplotlib.pyplot as plt"
   ]
  },
  {
   "cell_type": "code",
   "execution_count": null,
   "metadata": {},
   "outputs": [],
   "source": [
    "df1 = pd.read_csv(r'./Dados/DM_ALUNO.csv', delimiter = '|', encoding = 'iso-8859-1', usecols = ['CO_COR_RACA_ALUNO', 'IN_SEXO_ALUNO'])\n",
    "df2 = pd.read_csv(r'./Dados/DM_ALUNO_2015.csv', delimiter = '|', encoding = 'iso-8859-1', usecols = ['CO_COR_RACA_ALUNO', 'IN_SEXO_ALUNO'])\n",
    "df3 = pd.read_csv(r'./Dados/DM_ALUNO_2016.csv', delimiter = '|', encoding = 'iso-8859-1', usecols = ['CO_COR_RACA_ALUNO', 'IN_SEXO_ALUNO'])\n",
    "df4 = pd.read_csv(r'./Dados/DM_ALUNO_2017.csv', delimiter = '|', encoding = 'iso-8859-1', usecols = ['TP_COR_RACA', 'TP_SEXO'])\n",
    "df5 = pd.read_csv(r'./Dados/DM_ALUNO_2018.csv', delimiter = '|', encoding = 'iso-8859-1', usecols = ['TP_COR_RACA', 'TP_SEXO'])"
   ]
  },
  {
   "cell_type": "code",
   "execution_count": null,
   "metadata": {},
   "outputs": [],
   "source": [
    "#Criando listas e variáveis.\n",
    "Dados2014 = []\n",
    "Dados2015 = []\n",
    "Dados2016 = []\n",
    "Dados2017 = []\n",
    "Dados2018 = []\n",
    "anos= ['2014', '2015', '2016', '2017', '2018']\n",
    "Dados = [Dados2014, Dados2015, Dados2016, Dados2017, Dados2018]\n"
   ]
  },
  {
   "cell_type": "code",
   "execution_count": null,
   "metadata": {},
   "outputs": [],
   "source": [
    "Dados2014.append(df1.query('(CO_COR_RACA_ALUNO == 2 or CO_COR_RACA_ALUNO == 3) and (IN_SEXO_ALUNO == 1)')['CO_COR_RACA_ALUNO'].count())\n",
    "Dados2015.append(df2.query('(CO_COR_RACA_ALUNO == 2 or CO_COR_RACA_ALUNO == 3) and (IN_SEXO_ALUNO == 1)')['CO_COR_RACA_ALUNO'].count())\n",
    "Dados2016.append(df3.query('(CO_COR_RACA_ALUNO == 2 or CO_COR_RACA_ALUNO == 3) and (IN_SEXO_ALUNO == 1)')['CO_COR_RACA_ALUNO'].count())\n",
    "Dados2017.append(df4.query('(TP_COR_RACA == 2 or TP_COR_RACA == 3) and (TP_SEXO == 1)')['TP_COR_RACA'].count())\n",
    "Dados2018.append(df5.query('(TP_COR_RACA == 2 or TP_COR_RACA == 3) and (TP_SEXO == 1)')['TP_COR_RACA'].count())"
   ]
  },
  {
   "cell_type": "code",
   "execution_count": null,
   "metadata": {
    "scrolled": false
   },
   "outputs": [],
   "source": [
    "fig,ax = plt.subplots()\n",
    "plt.rcParams['figure.figsize'] = (12,7)\n",
    "plt.plot(anos, Dados, color='black')\n",
    "plt.scatter(anos, Dados, color='gray')\n",
    "ax.plot(anos, Dados, label='Avanço')\n",
    "ax.grid()\n",
    "plt.legend()\n",
    "plt.title('Evolução: Mulheres negras (Pretas e Pardas) no ensino superior.')\n",
    "plt.ylabel('QUANTIDADE')\n",
    "plt.xlabel('ANOS')\n",
    "plt.show()"
   ]
  },
  {
   "cell_type": "code",
   "execution_count": null,
   "metadata": {},
   "outputs": [],
   "source": []
  }
 ],
 "metadata": {
  "kernelspec": {
   "display_name": "Python 3",
   "language": "python",
   "name": "python3"
  },
  "language_info": {
   "codemirror_mode": {
    "name": "ipython",
    "version": 3
   },
   "file_extension": ".py",
   "mimetype": "text/x-python",
   "name": "python",
   "nbconvert_exporter": "python",
   "pygments_lexer": "ipython3",
   "version": "3.6.3"
  }
 },
 "nbformat": 4,
 "nbformat_minor": 2
}
